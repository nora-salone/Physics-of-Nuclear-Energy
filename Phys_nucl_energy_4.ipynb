{
 "cells": [
  {
   "cell_type": "code",
   "execution_count": 70,
   "metadata": {},
   "outputs": [],
   "source": [
    "from IPython.display import display, Markdown, Latex\n",
    "from decimal import Decimal\n",
    "import matplotlib.pyplot as plt\n",
    "import matplotlib.image as mpimg\n",
    "from scipy import stats\n",
    "import numpy as np\n",
    "import pandas as pd\n",
    "import math as mt"
   ]
  },
  {
   "cell_type": "markdown",
   "metadata": {},
   "source": [
    "# Solutions to Physics of Nuclear Energy Problems \n",
    "by *Nora Salone* "
   ]
  },
  {
   "cell_type": "markdown",
   "metadata": {},
   "source": [
    "### Problem 4.1\n",
    "\n",
    "Absorption of neutrons in the fuel, $^{235}U+ ^{238}U$, leads in some cases to fission which gives new fast\n",
    "neutrons.\n",
    "Derive the formula for $\\eta$, the effective number of fission neutrons per one neutron absorbed in fuel\n",
    "\n",
    "$$\\eta = \\nu_{235}\\frac{e\\sigma_{f235}}{e(\\sigma_f+\\sigma_c)_{235}+(1-e)\\sigma_{a238}},\\qquad e=\\frac{N_{235}}{N_{235}+N_{238}}\n",
    "$$\n",
    "\n",
    "in terms of the enrichment $e$."
   ]
  },
  {
   "cell_type": "markdown",
   "metadata": {},
   "source": [
    "$$\\eta = \\frac{\\text{# fast n by fission}}{\\text{# thermal n absorbed in fuel}} = \\nu P_f$$\n",
    "\n",
    "where $\\nu=\\nu_{235}$ is the average number of produced neutrons by $^{235} U$ fission, $P_f$ is the fission probability, defined in term of fission and absorption (and capture) macroscopic cross-sections as\n",
    "\n",
    "$$p_f = \\frac{\\Sigma_f}{\\Sigma_a} = \\frac{\\Sigma_f}{\\Sigma_f +\\Sigma_c}$$\n",
    "\n",
    "Using cross-sections for thermal neutrons, this makes $\\eta$\n",
    "\n",
    "$$\\nu_{235} \\frac{\\Sigma_f}{\\Sigma_f +\\Sigma_c}=\\nu_{235}\\frac{N_{235}\\sigma_{f235}}{N_{235}(\\sigma_f+\\sigma_c)_{235}+N_{238}\\sigma_{c238}}\\frac{N_{235}+N_{238}}{N_{235}+N_{238}} = \\nu_{235}\\frac{\\sigma_{f235}}{\\frac{N_{235}(\\sigma_f+\\sigma_c)_{235}+N_{238}\\sigma_{c238}}{N_{235}+N_{238}}}\\frac{N_{235}}{N_{235}+N_{238}}=\\\\\n",
    "=\\nu_{235}\\frac{e\\sigma_{f235}}{e(\\sigma_f+\\sigma_c)_{235}+(1-e)\\sigma_{a238}}$$\n",
    "\n",
    "by using the abovementioned definition of enrichment. Note how in case of fresh $U$ fuel we are assuming as fissile only $^{235}U$, meaning that $\\sigma_{a238}=\\sigma_{c238}$."
   ]
  },
  {
   "cell_type": "markdown",
   "metadata": {},
   "source": [
    "a. Study how the fission factor depends on the enrichment and determine the value at an\n",
    "enrichment of 0.7, 1.0, 2.0 and 3 %."
   ]
  },
  {
   "cell_type": "code",
   "execution_count": 71,
   "metadata": {},
   "outputs": [
    {
     "data": {
      "image/png": "[encoded data removed]",
      "text/plain": [
       "<Figure size 432x288 with 1 Axes>"
      ]
     },
     "metadata": {
      "needs_background": "light"
     },
     "output_type": "display_data"
    }
   ],
   "source": [
    "# Data for plotting\n",
    "e = np.linspace(0.1, 10.0, 50, endpoint=True)\n",
    "sigma_f235 = 583.0 #barn\n",
    "sigma_c235 = 99.0 #barn\n",
    "sigma_c238 = 2.0 #barn\n",
    "nu = 2.44 #for uranium\n",
    "\n",
    "eta = nu*e*sigma_f235/(e*(sigma_f235+sigma_c235)+(1-e)*sigma_c238)\n",
    "fig, ax = plt.subplots()\n",
    "ax.plot(e, eta)\n",
    "\n",
    "ax.set(xlabel='enrichment (e)', ylabel='Reproduction factor',\n",
    "       title='Reproduction factor $\\eta$')\n",
    "ax.grid()\n",
    "\n",
    "plt.show()"
   ]
  },
  {
   "cell_type": "code",
   "execution_count": 72,
   "metadata": {},
   "outputs": [
    {
     "name": "stdout",
     "output_type": "stream",
     "text": [
      "[[0.7, 2.0831882845188283], [1.0, 2.0858064516129033], [2.0, 2.088869309838473], [3.0, 2.089892262487757]]\n"
     ]
    }
   ],
   "source": [
    "data=[0.7,1.0,2.0,3.0]\n",
    "results=[]\n",
    "\n",
    "def eta_f(e):\n",
    "    return nu*e*sigma_f235/(e*(sigma_f235+sigma_c235)+(1-e)*sigma_c238)\n",
    "\n",
    "for i in range(len(data)):\n",
    "    results.append([data[i],eta_f(data[i])])\n",
    "\n",
    "print(results)"
   ]
  },
  {
   "cell_type": "code",
   "execution_count": 73,
   "metadata": {
    "scrolled": true
   },
   "outputs": [
    {
     "data": {
      "text/html": [
       "<div>\n",
       "<style scoped>\n",
       "    .dataframe tbody tr th:only-of-type {\n",
       "        vertical-align: middle;\n",
       "    }\n",
       "\n",
       "    .dataframe tbody tr th {\n",
       "        vertical-align: top;\n",
       "    }\n",
       "\n",
       "    .dataframe thead th {\n",
       "        text-align: right;\n",
       "    }\n",
       "</style>\n",
       "<table border=\"1\" class=\"dataframe\">\n",
       "  <thead>\n",
       "    <tr style=\"text-align: right;\">\n",
       "      <th></th>\n",
       "      <th>$e$ =</th>\n",
       "      <th>0.7</th>\n",
       "      <th>1.0</th>\n",
       "      <th>2.0</th>\n",
       "      <th>3.0</th>\n",
       "    </tr>\n",
       "  </thead>\n",
       "  <tbody>\n",
       "    <tr>\n",
       "      <th>$\\eta$</th>\n",
       "      <td></td>\n",
       "      <td>2.083</td>\n",
       "      <td>2.085</td>\n",
       "      <td>2.089</td>\n",
       "      <td>2.090</td>\n",
       "    </tr>\n",
       "  </tbody>\n",
       "</table>\n",
       "</div>"
      ],
      "text/plain": [
       "       $e$ =    0.7    1.0    2.0    3.0\n",
       "$\\eta$        2.083  2.085  2.089  2.090"
      ]
     },
     "metadata": {},
     "output_type": "display_data"
    }
   ],
   "source": [
    "Dane=np.array([[\"\",'2.083','2.085','2.089','2.090']])\n",
    " \n",
    "Dane_display= pd.DataFrame(Dane,columns=['$e$ =','0.7', '1.0','2.0','3.0'],index=['$\\eta$'])\n",
    "display(Dane_display)"
   ]
  },
  {
   "cell_type": "markdown",
   "metadata": {},
   "source": [
    "b. Calculate the value of the fission factor for highly enriched uranium and plutonium fissioned by thermal and fast neutrons (2 MeV).\n",
    "\n",
    "For the fission factor for thermal neutrons, we can use the same formula above for the highly enriched uranium, i.e. $e \\sim 20\\%$; for the respective fast fission factor $\\epsilon$, we just replace the thermal microscopic cross-sections with fast neutron cross-sections for uranium."
   ]
  },
  {
   "cell_type": "code",
   "execution_count": 74,
   "metadata": {},
   "outputs": [
    {
     "name": "stdout",
     "output_type": "stream",
     "text": [
      "thermal, fast\n",
      "[2.091633583296574, 2.3839765510503175]\n"
     ]
    }
   ],
   "source": [
    "nu = 2.44 #for uranium\n",
    "e=20.0 #highly enriched uranium\n",
    "results=[]\n",
    "\n",
    "def eta_f(e):\n",
    "    return nu*e*sigma_f235/(e*(sigma_f235+sigma_c235)+(1-e)*sigma_c238)\n",
    "\n",
    "#thermal neutrons\n",
    "sigma_f235 = 583.0 #barn\n",
    "sigma_c235 = 99.0 #barn\n",
    "sigma_c238 = 2.0 #barn\n",
    "results.append(eta_f(e))\n",
    "\n",
    "#fast neutrons\n",
    "sigma_f235 = 1.0 #barn\n",
    "sigma_c235 = 0.09 #barn\n",
    "sigma_c238 = 0.07 #barn\n",
    "results.append(eta_f(e))\n",
    "\n",
    "print(\"thermal,\",\"fast\")\n",
    "print(results)"
   ]
  },
  {
   "cell_type": "markdown",
   "metadata": {},
   "source": [
    "We calculate from scratch $\\eta$ for plutonium, then we replace the thermal cross sections with fast neutron cross sections to obtain $\\epsilon$:\n",
    "\n",
    "$$\\eta = \\nu_{239}\\frac{\\Sigma_{f239}}{\\Sigma_{a239}}= \\nu_{239}\\frac{N_{239}\\sigma_{f239}}{N_{239}(\\sigma_f+\\sigma_c)_{239}}=\\nu_{239}\\frac{\\sigma_{f239}}{(\\sigma_f+\\sigma_c)_{239}}$$"
   ]
  },
  {
   "cell_type": "code",
   "execution_count": 75,
   "metadata": {},
   "outputs": [
    {
     "name": "stdout",
     "output_type": "stream",
     "text": [
      "thermal, fast\n",
      "[2.1329400196656834, 2.829268292682927]\n"
     ]
    }
   ],
   "source": [
    "nu = 2.90 #for uranium\n",
    "results=[]\n",
    "\n",
    "def eta_fp(e):\n",
    "    return nu*sigma_f239/(sigma_f239+sigma_c239)\n",
    "\n",
    "#thermal neutrons\n",
    "sigma_f239 = 748.0 #barn\n",
    "sigma_c239 = 269.0 #barn\n",
    "results.append(eta_fp(e))\n",
    "\n",
    "#fast neutrons\n",
    "sigma_f239 = 2.0 #barn\n",
    "sigma_c239 = 0.05 #barn\n",
    "results.append(eta_fp(e))\n",
    "\n",
    "print(\"thermal,\",\"fast\")\n",
    "print(results)"
   ]
  },
  {
   "cell_type": "code",
   "execution_count": 76,
   "metadata": {},
   "outputs": [
    {
     "data": {
      "text/html": [
       "<div>\n",
       "<style scoped>\n",
       "    .dataframe tbody tr th:only-of-type {\n",
       "        vertical-align: middle;\n",
       "    }\n",
       "\n",
       "    .dataframe tbody tr th {\n",
       "        vertical-align: top;\n",
       "    }\n",
       "\n",
       "    .dataframe thead th {\n",
       "        text-align: right;\n",
       "    }\n",
       "</style>\n",
       "<table border=\"1\" class=\"dataframe\">\n",
       "  <thead>\n",
       "    <tr style=\"text-align: right;\">\n",
       "      <th></th>\n",
       "      <th></th>\n",
       "      <th>$^{235}U$</th>\n",
       "      <th>$^{239}Pu$</th>\n",
       "    </tr>\n",
       "  </thead>\n",
       "  <tbody>\n",
       "    <tr>\n",
       "      <th>$\\eta$</th>\n",
       "      <td></td>\n",
       "      <td>2.092</td>\n",
       "      <td>2.833</td>\n",
       "    </tr>\n",
       "    <tr>\n",
       "      <th>$\\epsilon$</th>\n",
       "      <td></td>\n",
       "      <td>2.133</td>\n",
       "      <td>2.829</td>\n",
       "    </tr>\n",
       "  </tbody>\n",
       "</table>\n",
       "</div>"
      ],
      "text/plain": [
       "             $^{235}U$ $^{239}Pu$\n",
       "$\\eta$           2.092      2.833\n",
       "$\\epsilon$       2.133      2.829"
      ]
     },
     "metadata": {},
     "output_type": "display_data"
    }
   ],
   "source": [
    "Dane=np.array([[\"\",'2.092','2.833'],[\"\",'2.133','2.829']])\n",
    " \n",
    "Dane_display= pd.DataFrame(Dane,columns=['','$^{235}U$','$^{239}Pu$'],index=['$\\eta$','$\\epsilon$'])\n",
    "display(Dane_display)"
   ]
  },
  {
   "cell_type": "markdown",
   "metadata": {},
   "source": [
    "### Problem 4.2\n",
    "Stainless steel, type 304 having a density of $7.86$ $\\text{g}/\\text{cm}^3$, has been used in some reactors. The nominal composition by weight of this material is as follows: carbon, 0.08%; chromium, 19%; nickel, 10%; iron, the remainder. Calculate the macroscopic absorption cross-section of SS-304 at 0.0253 eV, given\n",
    "\n",
    "* Density, $\\rho = 7.86$ $\\text{g}/\\text{cm}^3$;\n",
    "* Weight fraction of carbon, $w_C$ = 0.08 %;\n",
    "* Weight fraction of chromium, $w_{Cr}$ = 19 %;\n",
    "* Weight fraction of nickel, $w_{Ni}$ = 10 %;\n",
    "* Weight fraction of iron, $w_{Fe}$ = 100% - $w_C$ - $w_{Cr}$ - $w_{Ni}$."
   ]
  },
  {
   "cell_type": "markdown",
   "metadata": {},
   "source": [
    "The macroscopic absorption cross-section of SS-304 is defined in terms of the microscopic absorption cross-sections $\\sigma_{a,i}$ and the atomic number densities $N_i$ of the different components as\n",
    "\n",
    "$$\\Sigma_a = \\sum_i \\sigma_{a,i} N_i = \\sum_i \\sigma_{a,i} \\rho_i\\frac{N_A}{M_i} = \\sum_i \\sigma_{a,i} \\rho w_i\\frac{N_A}{M_i}$$\n",
    "\n",
    "where $w_i$ are the nominal compositions by weight of SS-304 and are thus expressed as fraction of SS-304 density $\\rho$."
   ]
  },
  {
   "cell_type": "code",
   "execution_count": 77,
   "metadata": {},
   "outputs": [
    {
     "name": "stdout",
     "output_type": "stream",
     "text": [
      "[0.0008 0.19   0.1    0.7092]\n",
      "[3.152672400134875e+20, 1.729645551770136e+22, 8.062344808993357e+21, 6.010939084311981e+22]\n",
      "[3.40e-27 3.10e-24 4.43e-24 2.55e-24]\n",
      "[1.0719086160458573e-06, 0.053619012104874214, 0.03571618750384057, 0.1532789466499555]\n",
      "0.24261521816728635\n"
     ]
    }
   ],
   "source": [
    "N_A = 6.02214076*10**(23) #Avogadro's number, mol^{-1}\n",
    "rho = 7.86 # g/cm^3 SS-304 mass density \n",
    "\n",
    "def N(w,M):\n",
    "    return rho*w*N_A/M # atomic number density, cm^{-3}\n",
    "\n",
    "atom_dens=[]\n",
    "w=np.divide([0.08,19.0,10.0,100.0-(0.08+19.0+10.0)],100.0) # to calculate weights in percentage of [C, Cr, Ni, Fe]\n",
    "M=[12.01115,51.996,58.71,55.847] # molar masses of [C, Cr, Ni, Fe], g/mol\n",
    "\n",
    "for i in range(len(w)):\n",
    "    atom_dens.append(N(w[i],M[i]))\n",
    "    \n",
    "def Sigma(sigma,N):\n",
    "    return sigma*N # macroscopic (absorption) cross-section\n",
    "\n",
    "mac_xs = []\n",
    "mic_xs = np.multiply([0.0034, 3.1, 4.43, 2.55],pow(10,-24)) # microscopic xs at E = 0.0253 eV, in cm^2 (barn = 10^{-24} cm^2)\n",
    "\n",
    "for i in range(len(mic_xs)):\n",
    "    mac_xs.append(Sigma(mic_xs[i],atom_dens[i]))\n",
    "\n",
    "print(w)\n",
    "print(atom_dens)\n",
    "print(mic_xs)\n",
    "print(mac_xs)\n",
    "\n",
    "Sigma_t=np.sum(mac_xs) # in cm^{-1} \n",
    "print(Sigma_t) #total absorption macroscopic xs"
   ]
  },
  {
   "cell_type": "code",
   "execution_count": 78,
   "metadata": {},
   "outputs": [
    {
     "data": {
      "text/html": [
       "<div>\n",
       "<style scoped>\n",
       "    .dataframe tbody tr th:only-of-type {\n",
       "        vertical-align: middle;\n",
       "    }\n",
       "\n",
       "    .dataframe tbody tr th {\n",
       "        vertical-align: top;\n",
       "    }\n",
       "\n",
       "    .dataframe thead th {\n",
       "        text-align: right;\n",
       "    }\n",
       "</style>\n",
       "<table border=\"1\" class=\"dataframe\">\n",
       "  <thead>\n",
       "    <tr style=\"text-align: right;\">\n",
       "      <th></th>\n",
       "      <th>element</th>\n",
       "      <th>$C$</th>\n",
       "      <th>$Cr$</th>\n",
       "      <th>$Ni$</th>\n",
       "      <th>$Fe$</th>\n",
       "      <th>SS-304</th>\n",
       "    </tr>\n",
       "  </thead>\n",
       "  <tbody>\n",
       "    <tr>\n",
       "      <th>$N_i$ $(cm^{-3})$</th>\n",
       "      <td></td>\n",
       "      <td>$3.153 \\times 10^{20}$</td>\n",
       "      <td>$1.730 \\times 10^{22}$</td>\n",
       "      <td>$8.062 \\times 10^{21}$</td>\n",
       "      <td>$6.011 \\times 10^{22}$</td>\n",
       "      <td></td>\n",
       "    </tr>\n",
       "    <tr>\n",
       "      <th>$\\Sigma_i$ $(cm^{-1})$</th>\n",
       "      <td></td>\n",
       "      <td>$1.072 \\times 10^{-6}$</td>\n",
       "      <td>$0.054$</td>\n",
       "      <td>$0.036$</td>\n",
       "      <td>$0.153$</td>\n",
       "      <td></td>\n",
       "    </tr>\n",
       "    <tr>\n",
       "      <th>$\\Sigma_a$ $(cm^{-1})$</th>\n",
       "      <td></td>\n",
       "      <td></td>\n",
       "      <td></td>\n",
       "      <td></td>\n",
       "      <td></td>\n",
       "      <td>$0.243$</td>\n",
       "    </tr>\n",
       "  </tbody>\n",
       "</table>\n",
       "</div>"
      ],
      "text/plain": [
       "                       element                     $C$  \\\n",
       "$N_i$ $(cm^{-3})$               $3.153 \\times 10^{20}$   \n",
       "$\\Sigma_i$ $(cm^{-1})$          $1.072 \\times 10^{-6}$   \n",
       "$\\Sigma_a$ $(cm^{-1})$                                   \n",
       "\n",
       "                                          $Cr$                    $Ni$  \\\n",
       "$N_i$ $(cm^{-3})$       $1.730 \\times 10^{22}$  $8.062 \\times 10^{21}$   \n",
       "$\\Sigma_i$ $(cm^{-1})$                 $0.054$                 $0.036$   \n",
       "$\\Sigma_a$ $(cm^{-1})$                                                   \n",
       "\n",
       "                                          $Fe$   SS-304  \n",
       "$N_i$ $(cm^{-3})$       $6.011 \\times 10^{22}$           \n",
       "$\\Sigma_i$ $(cm^{-1})$                 $0.153$           \n",
       "$\\Sigma_a$ $(cm^{-1})$                          $0.243$  "
      ]
     },
     "metadata": {},
     "output_type": "display_data"
    }
   ],
   "source": [
    "Dane=np.array([[\"\",'$3.153 \\times 10^{20}$','$1.730 \\times 10^{22}$','$8.062 \\times 10^{21}$','$6.011 \\times 10^{22}$',''],[\"\",'$1.072 \\times 10^{-6}$','$0.054$','$0.036$','$0.153$',''],['','','','','','$0.243$']])\n",
    " \n",
    "Dane_display= pd.DataFrame(Dane,columns=['element','$C$','$Cr$', '$Ni$', '$Fe$','SS-304'],index=['$N_i$ $(cm^{-3})$','$\\Sigma_i$ $(cm^{-1})$','$\\Sigma_a$ $(cm^{-1})$'])\n",
    "display(Dane_display)"
   ]
  },
  {
   "cell_type": "markdown",
   "metadata": {},
   "source": [
    "### Problem 4.3\n",
    "Derive the optimal algorithm $f^{*}(X)$ assuming $L(f(X), Y) = |(f(X) -Y)|$"
   ]
  },
  {
   "cell_type": "markdown",
   "metadata": {},
   "source": [
    "### Problem 4.4\n",
    "Measurements on an experimental thermal reactor show that, for every 100 neutrons emitted in fission, 10 escape while slowing down and 15 escape after having slowed down to thermal energies. No neutrons are absorbed within the reactor while slowing \n",
    "down. Of those neutrons absorbed at thermal energies, 60% are absorbed in fission material. \n",
    "* a. What is the multiplication factor of the reactor at the time these observations are made?\n",
    "* b. Suppose the thermal leakage is reduced by one third. How would this change the value of $k$?\n",
    "\n",
    "Note: The values of $\\eta$ and $\\nu$ for the reactor fuel are 2.07 and 2.42, respectively.\n",
    "\n",
    "Given:\n",
    "* Normalised number of neutrons in one generation, $N_0$ = 100;\n",
    "* Number (per 100) of fast neutrons leaking the system while slowing down, NFL = 10;\n",
    "* Number (per 100) of thermal neutrons leaking the system, NTL = 15;\n",
    "* Resonance escape probability, p = 1 ($0$ neutrons are absorbed while slowing down);\n",
    "* Thermal utilisation factor, f = 0.6;\n",
    "* Reproduction factor, $\\eta$ = 2.07;\n",
    "* Number fission neutrons, , $\\nu$ = 2.42;\n",
    "* Thermal neutron leakage reduction fraction, r = 1/3."
   ]
  },
  {
   "cell_type": "markdown",
   "metadata": {},
   "source": [
    "* a. The multiplication factor is calculated as the ratio of the number of neutrons produced in one generation to the number of neutrons of the previous generation (in case of the first cycle, to the initial number of neutrons $N_0$). It can be computed directly throught the specifics of the reactor using\n",
    "\n",
    "$$k = \\epsilon \\cdot P_f \\cdot P_t \\cdot p \\cdot f \\cdot \\eta$$\n",
    "\n",
    "where $\\epsilon$ is the fast fission factor, $P_f$ is the probability of non-fast leakage (likelihood of fast neutrons to not leak out of the reactor), $P_t$ is the probability of non-thermal leakage (same with thermal neutrons), $p$ is the probability of the neutrons to escape resonance capture while slowing down, $f$ is the ratio of neutrons effectively absorbed by the fuel to the total number of absorbed neutrons and $\\eta$ is the ratio of fast neutrons produced by fission to the total number of fuel-absorbed netrons. We assume $\\epsilon = 1$, i.e. no neutrons of the first generation undergo fast fission."
   ]
  },
  {
   "cell_type": "code",
   "execution_count": 79,
   "metadata": {},
   "outputs": [
    {
     "name": "stdout",
     "output_type": "stream",
     "text": [
      "0.9314999999999999\n",
      "0.9314999999999999\n"
     ]
    },
    {
     "data": {
      "text/plain": [
       "0.9935999999999998"
      ]
     },
     "execution_count": 79,
     "metadata": {},
     "output_type": "execute_result"
    }
   ],
   "source": [
    "N_0 = 100 # initial number of neutrons\n",
    "NFL = 10 # fast neutrons leaked\n",
    "NTL = 15 # thermal neutrons leaked\n",
    "epsilon = 1\n",
    "P_f = (N_0-NFL)/N_0\n",
    "P_t = (N_0-NFL-NTL)/(N_0-NFL)\n",
    "p = 1\n",
    "f = 0.6\n",
    "eta = 2.07\n",
    "k = epsilon*P_f*P_t*p*f*eta # multiplication factor\n",
    "\n",
    "print(k)\n",
    "\n",
    "#check with ratio of final to initial neutron numbers\n",
    "print(((N_0-NFL-NTL)*0.6*2.07)/N_0)\n",
    "\n",
    "NTL = NTL*2/3 # fewer thermal neutrons leak: number reduced by 1/3\n",
    "P_t = (N_0-NFL-NTL)/(N_0-NFL)\n",
    "epsilon*P_f*P_t*p*f*eta"
   ]
  },
  {
   "cell_type": "markdown",
   "metadata": {},
   "source": [
    "The value of the multiplication factor $k$ is \n",
    "\n",
    "$$k = 0.9315$$\n",
    "\n",
    "and it matches to the ratio of number of initial neutrons to number of final neutrons.\n",
    "\n",
    "* b. If the thermal leakage is reduced by 1/3, we only need to replace $NTL$ with $NTL\\frac{2}{3}$, since reduced thermal leakage means fewer thermal neutrons leak. Since $P_t$ (the likelihood to avoid thermal leakage) increases and overall $k$ also increases, we get\n",
    "\n",
    "$$k = 0.9936$$"
   ]
  },
  {
   "cell_type": "markdown",
   "metadata": {},
   "source": [
    "### Problem 4.5\n",
    "Calculate the prompt neutron lifetime in an infinite, critical thermal reactor at 100 ºC consisting of a homogeneous mixture of $^{235}U$ and the commercial heavy water. Take the resonance escape probability in such a reactor as 0.87, and the fast fission factor as 1.02 and assume that the commercial heavy water is 1/v absorber."
   ]
  },
  {
   "cell_type": "markdown",
   "metadata": {},
   "source": [
    "For an infinite, critical reactor the multiplication factor is $k_\\infty = 1$. The homogeneous mixture in the reactor is $^{235}U + D_2 O$ where $F= ^{235}U$ is the fuel and $M = D_2 O$ is the moderator. For a thermal reactor, one can assume that between the slowing down time $t_s$ and the diffusion time $t_d$ it holds that\n",
    "\n",
    "$$t_s << t_d \\qquad \\Longrightarrow \\qquad l_p = t_s + t_d \\approx t_d $$\n",
    "\n",
    "where $l_p$ is the prompt neutron lifetime. Furthermore, the diffusion time is defined as\n",
    "\n",
    "$$t_d = \\frac{\\lambda_a}{v} = \\frac{1}{\\Sigma_a v}$$\n",
    "\n",
    "with mean free path $\\lambda_a$ and absorption macroscopic cross-section $\\Sigma_a$. We express the latter using the thermal neutron utilization factor\n",
    "\n",
    "$$ f = \\frac{\\Sigma_a^F}{\\Sigma_a^{TOT}} = \\frac{\\Sigma_a^F}{\\Sigma_a^F + \\Sigma_a^M} \\qquad \\Longrightarrow \\qquad \\Sigma_a^{TOT} = \\frac{\\Sigma_a^M}{1-f}$$\n",
    "\n",
    "Gathering everything together, the prompt neutron lifetime becomes\n",
    "\n",
    "$$l_p = \\frac{1}{\\Sigma_a v} = \\frac{1-f}{\\Sigma_a^M v} = \\frac{1-f}{\\Sigma_{a,0}^M v_0}$$\n",
    "\n",
    "In a 1/v absorbing medium, we use macroscopic cross-sections $\\Sigma_{a,0}^M$, which are tabulated for the most probable velocity $v_0=2200$ $m/s$ (for a thermal reactor at 100 °C. We compute the macroscopic cross-sections as in problem 4.2 in terms of mass density, molar mass and Avogadro number."
   ]
  },
  {
   "cell_type": "code",
   "execution_count": 99,
   "metadata": {},
   "outputs": [
    {
     "name": "stdout",
     "output_type": "stream",
     "text": [
      "The prompt neutron lifetime is 1.361915458065172e-07 .\n"
     ]
    }
   ],
   "source": [
    "w = 1 # we have the density of the whole component, we don't need weights here\n",
    "\n",
    "#uranium\n",
    "rho = 19.1 # uranium mass density g/cm^3\n",
    "M = 235.04 # uranium-235 molar mass g/mol\n",
    "atom_dens=N(w,M) # cm^{-3}\n",
    "\n",
    "#thermal neutrons\n",
    "sigma_f235 = 583.0 #barn\n",
    "sigma_c235 = 99.0 #barn\n",
    "sigma = (sigma_f235 + sigma_c235)*10**(-24) # absorption microscopic xs for fuel = uranium-235 in cm^{2}\n",
    "Sigma_F=Sigma(sigma,atom_dens) # F = fuel, cm^{-1}\n",
    "\n",
    "#heavy water\n",
    "rho = 1.11 # heavy water mass density g/cm^3\n",
    "M = (2*2.01410177811 + 15.99903) # heavy water molar mass g/mol\n",
    "atom_dens= N(w,M) # cm^{-3}\n",
    "\n",
    "#thermal neutrons\n",
    "sigma_aD = 3*10**(-4) #barn\n",
    "sigma_aO = 1*10**(-4) #barn\n",
    "sigma = (2*sigma_aD + sigma_aO)*10**(-24) # absorption microscopic xs for moderator = heavy water in cm^{2}\n",
    "Sigma_M=Sigma(sigma,atom_dens) # M = moderator, cm^{-1}\n",
    "\n",
    "f = Sigma_F/(Sigma_F+Sigma_M) # thermal utilization factor\n",
    "\n",
    "v_0 = 2200*10**2 #most probable velocity, cm/s\n",
    "l_d = (1-f)/(Sigma_M*v_0) # prompt neutron lifetime\n",
    "\n",
    "print(\"The prompt neutron lifetime is\",l_d,\".\")"
   ]
  },
  {
   "cell_type": "markdown",
   "metadata": {},
   "source": [
    "### Problem 4.6\n",
    "\n",
    "Express the following reactivities of a $^{233}U$-fueled thermal reactor in dollars:\n",
    "* a) 0.001\n",
    "* b) 4%\n",
    "* c) −0.01"
   ]
  },
  {
   "cell_type": "markdown",
   "metadata": {},
   "source": [
    "To express reactivity in $\\$$, we take the reactivity $\\rho = \\frac{k-1}{k}$ and we divide it by the delayed neutrons fraction $\\beta$, which for $^{233}U$ is $\\beta =0.00281$."
   ]
  },
  {
   "cell_type": "code",
   "execution_count": 109,
   "metadata": {},
   "outputs": [
    {
     "name": "stdout",
     "output_type": "stream",
     "text": [
      "[0.35587188612099646, 14.234875444839858, -3.5587188612099645]\n"
     ]
    },
    {
     "data": {
      "text/html": [
       "<div>\n",
       "<style scoped>\n",
       "    .dataframe tbody tr th:only-of-type {\n",
       "        vertical-align: middle;\n",
       "    }\n",
       "\n",
       "    .dataframe tbody tr th {\n",
       "        vertical-align: top;\n",
       "    }\n",
       "\n",
       "    .dataframe thead th {\n",
       "        text-align: right;\n",
       "    }\n",
       "</style>\n",
       "<table border=\"1\" class=\"dataframe\">\n",
       "  <thead>\n",
       "    <tr style=\"text-align: right;\">\n",
       "      <th></th>\n",
       "      <th>reactivity $\\rho$</th>\n",
       "      <th>reactivity $\\$$</th>\n",
       "    </tr>\n",
       "  </thead>\n",
       "  <tbody>\n",
       "    <tr>\n",
       "      <th>a)</th>\n",
       "      <td>0.001</td>\n",
       "      <td>0.35587</td>\n",
       "    </tr>\n",
       "    <tr>\n",
       "      <th>b)</th>\n",
       "      <td>0.04</td>\n",
       "      <td>14.235</td>\n",
       "    </tr>\n",
       "    <tr>\n",
       "      <th>c)</th>\n",
       "      <td>-0.01</td>\n",
       "      <td>-3.5587</td>\n",
       "    </tr>\n",
       "  </tbody>\n",
       "</table>\n",
       "</div>"
      ],
      "text/plain": [
       "   reactivity $\\rho$ reactivity $\\$$\n",
       "a)             0.001         0.35587\n",
       "b)              0.04          14.235\n",
       "c)             -0.01         -3.5587"
      ]
     },
     "metadata": {},
     "output_type": "display_data"
    }
   ],
   "source": [
    "reactivity=[0.001,0.04,-0.01]\n",
    "beta = 0.00281\n",
    "results=[]\n",
    "\n",
    "def dollars(rho):\n",
    "    return rho/beta\n",
    "\n",
    "for i in range(len(reactivity)):\n",
    "    results.append(dollars(reactivity[i]))\n",
    "    \n",
    "print(results)\n",
    "\n",
    "Dane=np.array([['0.001','0.35587'],['0.04','14.235'],['-0.01','-3.5587']])\n",
    " \n",
    "Dane_display= pd.DataFrame(Dane,columns=['reactivity $\\rho$','reactivity $\\$$'],index=['a)','b)','c)'])\n",
    "display(Dane_display)"
   ]
  },
  {
   "cell_type": "markdown",
   "metadata": {},
   "source": [
    "### Problem 4.7\n",
    "\n",
    " Let X and Y have a joint PDF fXY (x,y) = x+y for 0 <x<1, 0<y<1\n",
    " \n",
    "* Find conditional PDF fY|X (y|x)\n",
    "\n",
    "* Show that the integral of fY|X (y|x) over all y values is equal to 1"
   ]
  },
  {
   "cell_type": "markdown",
   "metadata": {},
   "source": [
    "The conditional PDF is\n",
    "$$f_{Y|X}(y|x)=\\frac{f_{XY}(x,y)}{f_X(x)}$$\n",
    "with joint PDF $f_{XY}(x,y)$."
   ]
  },
  {
   "cell_type": "markdown",
   "metadata": {},
   "source": [
    "The given joint PDF is $$f_{XY}(x,y)=x+y, \\qquad 0<x<1, 0<y<1\\\\\n",
    "0 \\qquad \\text{otherwise}$$.\n",
    "The marginal distribution $f_X(x)$ is found by\n",
    "$$f_X(x)=\\int_{-\\infty}^\\infty f_{XY}(x,y) dy = \\int_0^1 (x+y) dy = \\frac{y^2}{2}+yx\\bigg|_0^1 = \\frac{1}{2}+x, \\qquad 0<x<1$$\n",
    "since outside that interval $f_{XY}(x,y)$ takes 0 value. This makes the conditional PDF\n",
    "$$f_{Y|X}(y|x)=2\\frac{x+y}{1+2x}, \\qquad 0<x<1, 0<y<1$$\n",
    "\n",
    "Integrating over all $y$ values:\n",
    "\n",
    "$$\\int_0^1 f_{Y|X}(y|x)dy=2\\int_0^1\\frac{x+y}{1+2x}dy=\\frac{2}{1+2x}\\bigg(\\frac{y^2}{2}+yx\\bigg)_0^1=\\frac{1}{\\frac{1}{2}+x}\\bigg(\\frac{1}{2}+x\\bigg)=1\n",
    "$$"
   ]
  },
  {
   "cell_type": "markdown",
   "metadata": {},
   "source": [
    "### Problem 4.8\n",
    "\n",
    "Show that:\n",
    "\n",
    "* Cov[X,Y] = E[XY] – E[X]E[Y]\n",
    "\n",
    "* Var[X+Y] = Var[X] + Var[Y] + 2 Cov[X,Y]"
   ]
  },
  {
   "cell_type": "markdown",
   "metadata": {},
   "source": [
    "$Cov(X,Y)$$=E[(X-E[X])(Y-E[Y])]\\\\\n",
    "         =E[XY-XE[Y]-E[X]Y+E[X]E[Y]\\\\\n",
    "         =E[XY]-E[X]E[Y]-E[X]E[Y]+E[X]E[Y]\\\\\n",
    "         =E[XY]-E[X]E[Y]$"
   ]
  },
  {
   "cell_type": "markdown",
   "metadata": {},
   "source": [
    "$Var(X+Y)$$=E[(X+Y)^2]-E[X+Y]^2\\\\\n",
    "          =E[X^2]+2E[XY]+E[Y^2]-(E[X]+E[Y])^2\\\\\n",
    "          =E[X^2]+2E[XY]+E[Y^2]-E[X]^2-2E[X]E[Y]-E[Y]^2\\\\\n",
    "          =Var[X]+Var[Y]+2E[XY]-2E[X]E[Y]\\\\\n",
    "          =Var[X]+Var[Y]+2Cov(X,Y)$"
   ]
  },
  {
   "cell_type": "markdown",
   "metadata": {},
   "source": [
    "Both expressions were showed to be true exploiting the linearity of $E[X]$ and the fact that $E[E[X]]=E[X]$ for an arbitrary random variable $X$. The last line of the second proof is obtained by employing the definitions of covariance and variance."
   ]
  },
  {
   "cell_type": "markdown",
   "metadata": {},
   "source": [
    "### Problem 25\n",
    "\n",
    "Rolling a die Ω = { 1 , 2 , 3 , 4 , 5, 6 }\n",
    "\n",
    "X is 1 if even number 0 otherwise.\n",
    "\n",
    "Y is 1 if prime number 0 otherwise.\n",
    "\n",
    "* Calculate E[Y|1], E[Y|0]\n",
    "\n",
    "* Var[Y|1], Var[Y|0]"
   ]
  },
  {
   "cell_type": "markdown",
   "metadata": {},
   "source": [
    "Note that for the conditional PMF we use the same values in ex. 21, since the event space is the same.\n",
    "\n",
    "$$E[Y|1]=\\sum_r r\\cdot p_{Y|X}[r|1]=0\\cdot p_{Y|X}[0|1]+p_{Y|X}[1|1]=\\frac{1}{3}$$\n",
    "\n",
    "$$E[Y|0]=\\sum_r r\\cdot p_{Y|X}[r|0]=p_{Y|X}[1|0]=\\frac{2}{3}$$"
   ]
  },
  {
   "cell_type": "markdown",
   "metadata": {},
   "source": [
    "$$Var[Y|1]=\\sum_r (r-E[Y|1])^2 p_{Y|X}[r|1]=E[Y|1]^2 p_{Y|X}[0|1]+(1-E[Y|1])^2 p_{Y|X}[1|1]=\\\\\n",
    "=\\frac{1}{9}\\frac{2}{3}+\\frac{4}{9}\\frac{1}{3}=\\frac{2}{9}$$\n",
    "\n",
    "$$Var[Y|0]=\\sum_r (r-E[Y|0])^2 p_{Y|X}[r|0]=E[Y|0]^2 p_{Y|X}[0|0]+(1-E[Y|0])^2 p_{Y|X}[0|1]=\\\\\n",
    "=\\frac{4}{9}\\frac{1}{3}+\\frac{1}{9}\\frac{2}{3}=\\frac{2}{9}$$"
   ]
  }
 ],
 "metadata": {
  "kernelspec": {
   "display_name": "Python 3",
   "language": "python",
   "name": "python3"
  },
  "language_info": {
   "codemirror_mode": {
    "name": "ipython",
    "version": 3
   },
   "file_extension": ".py",
   "mimetype": "text/x-python",
   "name": "python",
   "nbconvert_exporter": "python",
   "pygments_lexer": "ipython3",
   "version": "3.8.3"
  }
 },
 "nbformat": 4,
 "nbformat_minor": 4
}
